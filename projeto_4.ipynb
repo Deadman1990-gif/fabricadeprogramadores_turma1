{
 "cells": [
  {
   "cell_type": "markdown",
   "id": "f7e6eb37",
   "metadata": {},
   "source": [
    "# 🕵️‍♂️ MISSÃO SINARM: ANÁLISE DE INTELIGÊNCIA\n",
    "## 📋 CONTEXTO DA OPERAÇÃO\n",
    "\n",
    "Caros Aspirantes a Analistas de Dados Forenses,\n",
    "\n",
    "Vocês foram recrutados para uma operação especial da Polícia Federal! Como estagiários do setor de inteligência, sua missão é analisar dados reais de ocorrências envolvendo armas de fogo.\n",
    "\n",
    "### Um arquivo confidencial contendo dados de 2025 acaba de chegar em suas mãos: OCORRENCIAS_2025.csv\n",
    "---\n",
    "## 🎯 OBJETIVO DA MISSÃO\n",
    "\n",
    "Sua tarefa é desenvolver um algoritmo em Python que:\n",
    "\n",
    "    Identifique os tipos de armas (espécies) envolvidas nas ocorrências\n",
    "\n",
    "    Classifique as armas em categorias específicas (calibres)\n",
    "\n",
    "    Conte quantas armas de cada tipo foram apreendidas\n",
    "\n",
    "## 🔍 DADOS DA OPERAÇÃO\n",
    "\n",
    "O arquivo CSV contém as seguintes colunas relevantes:\n",
    "\n",
    "    ESPECIE_ARMA (descrição do tipo de arma)\n",
    "\n",
    "    CALIBRE_ARMA (calibre da arma)\n",
    "\n",
    "    MARCA_ARMA (fabricante da arma)"
   ]
  },
  {
   "cell_type": "code",
   "execution_count": null,
   "id": "e3270dd8",
   "metadata": {},
   "outputs": [
    {
     "ename": "FileNotFoundError",
     "evalue": "[Errno 2] No such file or directory: 'OCORRENCIA_2025.csv'",
     "output_type": "error",
     "traceback": [
      "\u001b[31m---------------------------------------------------------------------------\u001b[39m",
      "\u001b[31mFileNotFoundError\u001b[39m                         Traceback (most recent call last)",
      "\u001b[36mCell\u001b[39m\u001b[36m \u001b[39m\u001b[32mIn[4]\u001b[39m\u001b[32m, line 4\u001b[39m\n\u001b[32m      1\u001b[39m \u001b[38;5;66;03m# Seu código aqui:\u001b[39;00m\n\u001b[32m      2\u001b[39m \u001b[38;5;28;01mimport\u001b[39;00m\u001b[38;5;250m \u001b[39m\u001b[34;01mcsv\u001b[39;00m\n\u001b[32m----> \u001b[39m\u001b[32m4\u001b[39m exemplo=\u001b[38;5;28;43mopen\u001b[39;49m\u001b[43m(\u001b[49m\u001b[33;43m'\u001b[39;49m\u001b[33;43mOCORRENCIA_2025.csv\u001b[39;49m\u001b[33;43m'\u001b[39;49m\u001b[43m)\u001b[49m\n\u001b[32m      5\u001b[39m leitor=csv.reader(exemplo, delimiter=\u001b[33m'\u001b[39m\u001b[33m;\u001b[39m\u001b[33m'\u001b[39m)\n\u001b[32m      6\u001b[39m \u001b[38;5;28;01mfor\u001b[39;00m linha \u001b[38;5;129;01min\u001b[39;00m leitor:\n",
      "\u001b[36mFile \u001b[39m\u001b[32mc:\\Users\\prog1\\Documents\\Pedro Henrique Brandão de Carvalho Turma 1 Lázaro\\Jupyter\\.venv\\Lib\\site-packages\\IPython\\core\\interactiveshell.py:343\u001b[39m, in \u001b[36m_modified_open\u001b[39m\u001b[34m(file, *args, **kwargs)\u001b[39m\n\u001b[32m    336\u001b[39m \u001b[38;5;28;01mif\u001b[39;00m file \u001b[38;5;129;01min\u001b[39;00m {\u001b[32m0\u001b[39m, \u001b[32m1\u001b[39m, \u001b[32m2\u001b[39m}:\n\u001b[32m    337\u001b[39m     \u001b[38;5;28;01mraise\u001b[39;00m \u001b[38;5;167;01mValueError\u001b[39;00m(\n\u001b[32m    338\u001b[39m         \u001b[33mf\u001b[39m\u001b[33m\"\u001b[39m\u001b[33mIPython won\u001b[39m\u001b[33m'\u001b[39m\u001b[33mt let you open fd=\u001b[39m\u001b[38;5;132;01m{\u001b[39;00mfile\u001b[38;5;132;01m}\u001b[39;00m\u001b[33m by default \u001b[39m\u001b[33m\"\u001b[39m\n\u001b[32m    339\u001b[39m         \u001b[33m\"\u001b[39m\u001b[33mas it is likely to crash IPython. If you know what you are doing, \u001b[39m\u001b[33m\"\u001b[39m\n\u001b[32m    340\u001b[39m         \u001b[33m\"\u001b[39m\u001b[33myou can use builtins\u001b[39m\u001b[33m'\u001b[39m\u001b[33m open.\u001b[39m\u001b[33m\"\u001b[39m\n\u001b[32m    341\u001b[39m     )\n\u001b[32m--> \u001b[39m\u001b[32m343\u001b[39m \u001b[38;5;28;01mreturn\u001b[39;00m \u001b[43mio_open\u001b[49m\u001b[43m(\u001b[49m\u001b[43mfile\u001b[49m\u001b[43m,\u001b[49m\u001b[43m \u001b[49m\u001b[43m*\u001b[49m\u001b[43margs\u001b[49m\u001b[43m,\u001b[49m\u001b[43m \u001b[49m\u001b[43m*\u001b[49m\u001b[43m*\u001b[49m\u001b[43mkwargs\u001b[49m\u001b[43m)\u001b[49m\n",
      "\u001b[31mFileNotFoundError\u001b[39m: [Errno 2] No such file or directory: 'OCORRENCIA_2025.csv'"
     ]
    }
   ],
   "source": [
    "# Seu código aqui:\n",
    "import csv\n",
    "\n",
    "exemplo=open('OCORRENCIA_2025.csv')\n",
    "leitor=csv.reader(exemplo, delimiter=';')\n",
    "for linha in leitor:\n",
    "    if linha[3].strip()==\"SANTANA DE PARNAIBA\":\n",
    "        print(linha[3])"
   ]
  }
 ],
 "metadata": {
  "language_info": {
   "name": "python"
  }
 },
 "nbformat": 4,
 "nbformat_minor": 5
}
